{
  "cells": [
    {
      "cell_type": "markdown",
      "metadata": {
        "colab_type": "text",
        "id": "view-in-github"
      },
      "source": [
        "<a href=\"https://colab.research.google.com/github/dbirks/ml-notebooks/blob/main/StableDiffusionUI_Voldemort_V1_2.ipynb\" target=\"_parent\"><img src=\"https://colab.research.google.com/assets/colab-badge.svg\" alt=\"Open In Colab\"/></a>"
      ]
    },
    {
      "cell_type": "markdown",
      "metadata": {
        "id": "gfKvWAVnz8OB"
      },
      "source": [
        "Adapted from: https://colab.research.google.com/drive/1AfAmwLMd_Vx33O9IwY2TmO9wKZ8ABRRa"
      ]
    },
    {
      "cell_type": "markdown",
      "metadata": {
        "id": "OHCtG9MT0jLq"
      },
      "source": [
        "Clone webui repository"
      ]
    },
    {
      "cell_type": "code",
      "execution_count": null,
      "metadata": {
        "colab": {
          "base_uri": "https://localhost:8080/"
        },
        "id": "sBbcB4vwj_jm",
        "outputId": "34274d9b-4a68-4e5b-a0c7-3bdefbe46f4a"
      },
      "outputs": [],
      "source": [
        "# Pull down the webui\n",
        "!git clone https://github.com/AUTOMATIC1111/stable-diffusion-webui\n",
        "\n",
        "# Pull down some extensions\n",
        "!git clone https://github.com/yfszzx/stable-diffusion-webui-images-browser stable-diffusion-webui/extensions/images-browser\n",
        "!git clone https://github.com/AUTOMATIC1111/stable-diffusion-webui-tokenizer stable-diffusion-webui/extensions/tokenizer\n",
        "\n",
        "%cd stable-diffusion-webui"
      ]
    },
    {
      "cell_type": "markdown",
      "metadata": {
        "id": "F0EINk5M0s-w"
      },
      "source": [
        "Download the models from huggingface."
      ]
    },
    {
      "cell_type": "code",
      "execution_count": null,
      "metadata": {
        "colab": {
          "base_uri": "https://localhost:8080/"
        },
        "id": "CT_J9L7oqLxG",
        "outputId": "a651bfa1-5cc7-4c6f-8469-681cc41dd045"
      },
      "outputs": [],
      "source": [
        "# Get a token from https://huggingface.co/settings/tokens\n",
        "user_token = \"\" #@param {type:\"string\"}\n",
        "user_header = f\"\\\"Authorization: Bearer {user_token}\\\"\"\n",
        "models_dir = '/content/stable-diffusion-webui/models/Stable-diffusion'\n",
        "embeddings_dir = '/content/stable-diffusion-webui/embeddings'\n",
        "\n",
        "# Download models\n",
        "!wget --header={user_header} https://huggingface.co/runwayml/stable-diffusion-v1-5/resolve/main/v1-5-pruned-emaonly.ckpt -O {models_dir}/v1.5.ckpt\n",
        "!wget --header={user_header} https://huggingface.co/CompVis/stable-diffusion-v-1-4-original/resolve/main/sd-v1-4.ckpt -O {models_dir}/v1.4.ckpt\n",
        "!wget --header={user_header} https://huggingface.co/nitrosocke/mo-di-diffusion/resolve/main/moDi-v1-pruned.ckpt -O \"{models_dir}/modern disney.ckpt\"\n",
        "!wget --header={user_header} https://huggingface.co/IShallRiseAgain/StudioGhibli/resolve/main/StudioGhibliV4.ckpt -O {models_dir}/studio_ghibli_anime_style.ckpt\n",
        "!wget --header={user_header} https://huggingface.co/naclbit/trinart_characters_19.2m_stable_diffusion_v1/resolve/main/trinart_characters_it4_v1.ckpt -O {models_dir}/trinart.ckpt\n",
        "!wget --header={user_header} https://huggingface.co/Fictiverse/Stable_Diffusion_PaperCut_Model/resolve/main/PaperCut_v1.ckpt -O {models_dir}/PaperCut.ckpt\n",
        "\n",
        "!wget https://huggingface.co/sd-concepts-library/irasutoya/resolve/main/learned_embeds.bin -O {embeddings_dir}/irasutoya.bin"
      ]
    },
    {
      "cell_type": "markdown",
      "metadata": {
        "id": "v2kY0Z05DwIN"
      },
      "source": [
        "Need to see why they did this originally:"
      ]
    },
    {
      "cell_type": "code",
      "execution_count": null,
      "metadata": {
        "colab": {
          "base_uri": "https://localhost:8080/"
        },
        "id": "IB19TzabDtYF",
        "outputId": "137244dd-9be3-4692-e095-b1ada90022d5"
      },
      "outputs": [],
      "source": [
        "!COMMANDLINE_ARGS=\"--exit\" REQS_FILE=\"requirements.txt\" python launch.py"
      ]
    },
    {
      "cell_type": "markdown",
      "metadata": {
        "id": "xt8lbdmC04ox"
      },
      "source": [
        "Launch web ui. You will get a link to nnn.gradio.app, follow it.\n",
        "\n",
        "Commandline arguments are:\n",
        "  - `--share` - create online gradio.app link\n",
        "  - `--gradio-debug` - print outputs to console\n",
        "  - `--gradio-auth me:qwerty` - add authentication to gradio: username me, password qwerty"
      ]
    },
    {
      "cell_type": "code",
      "execution_count": null,
      "metadata": {
        "colab": {
          "base_uri": "https://localhost:8080/"
        },
        "id": "R-xAdMA5wxXd",
        "outputId": "2ba0177d-2f99-486a-d981-c9c66515cac2"
      },
      "outputs": [],
      "source": [
        "username = \"\" #@param {type:\"string\"}\n",
        "password = \"\" #@param {type:\"string\"}\n",
        "ngrok_token = \"\" #@param {type:\"string\"}\n",
        "\n",
        "!COMMANDLINE_ARGS=\"--ngrok {ngrok_token} --gradio-debug --gradio-auth {username}:{password} --gradio-img2img-tool color-sketch\" REQS_FILE=\"requirements.txt\" python launch.py"
      ]
    }
  ],
  "metadata": {
    "accelerator": "GPU",
    "colab": {
      "collapsed_sections": [
        "9qrpRUJpno7L"
      ],
      "include_colab_link": true,
      "provenance": []
    },
    "gpuClass": "standard",
    "kernelspec": {
      "display_name": "Python 3",
      "name": "python3"
    },
    "language_info": {
      "name": "python"
    }
  },
  "nbformat": 4,
  "nbformat_minor": 0
}
